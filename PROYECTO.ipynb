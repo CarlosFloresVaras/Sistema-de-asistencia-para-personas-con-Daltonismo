{
 "cells": [
  {
   "cell_type": "code",
   "execution_count": 7,
   "metadata": {},
   "outputs": [],
   "source": [
    "import matplotlib.pyplot as plt\n",
    "import numpy as np\n",
    "import cv2 as cv\n",
    "import tkinter as tk\n",
    "from tkinter import filedialog\n",
    "from PIL import Image, ImageTk"
   ]
  },
  {
   "cell_type": "code",
   "execution_count": 12,
   "metadata": {},
   "outputs": [
    {
     "ename": "SyntaxError",
     "evalue": "(unicode error) 'unicodeescape' codec can't decode bytes in position 2-3: truncated \\UXXXXXXXX escape (4256899287.py, line 14)",
     "output_type": "error",
     "traceback": [
      "\u001b[1;36m  Cell \u001b[1;32mIn[12], line 14\u001b[1;36m\u001b[0m\n\u001b[1;33m    imagenes_prueba = ['C:\\Users\\CARLOS\\Documents\\UP 3er Semestre\\Procesamiento de Imagenes\\SPACE.jpg', 'C:\\Users\\CARLOS\\Documents\\UP 3er Semestre\\Procesamiento de Imagenes\\SPACE.jpg', 'C:\\Users\\CARLOS\\Documents\\UP 3er Semestre\\Procesamiento de Imagenes\\SPACE.jpg']\u001b[0m\n\u001b[1;37m                                                                                                      ^\u001b[0m\n\u001b[1;31mSyntaxError\u001b[0m\u001b[1;31m:\u001b[0m (unicode error) 'unicodeescape' codec can't decode bytes in position 2-3: truncated \\UXXXXXXXX escape\n"
     ]
    }
   ],
   "source": [
    "# Encontrar tipo de Daltonismo mediante un test de Ishihara\n",
    "\n",
    "def mostrar_imagen_pregunta(imagen, pregunta):\n",
    "    plt.imshow(imagen)\n",
    "    plt.title(pregunta)\n",
    "    plt.axis('off')\n",
    "    plt.show()\n",
    "\n",
    "def realizar_pregunta(pregunta, respuesta_esperada):\n",
    "    respuesta_usuario = input(pregunta + \" (Ingrese el número que ve): \")\n",
    "    return respuesta_usuario == respuesta_esperada\n",
    "\n",
    "# Lista de rutas de las imágenes de prueba\n",
    "imagenes_prueba = ['ruta/imagen1.png', 'ruta/imagen2.png', 'ruta/imagen3.png']\n",
    "# Lista de respuestas esperadas para cada imagen\n",
    "respuestas_esperadas = ['5', '12', '3']\n",
    "\n",
    "# Inicialización de la variable de resultado\n",
    "resultado_test = True\n",
    "\n",
    "# Configuración de la ventana de Tkinter para seleccionar imágenes\n",
    "root = tk.Tk()\n",
    "root.withdraw()\n",
    "\n",
    "# Realizar el test para cada imagen\n",
    "for i, imagen_path in enumerate(imagenes_prueba):\n",
    "    imagen = cv.imread(imagen_path)\n",
    "    imagen_rgb = cv.cvtColor(imagen, cv.COLOR_BGR2RGB)\n",
    "    pregunta = f\"Pregunta {i+1}: ¿Qué número ves?\"\n",
    "    mostrar_imagen_pregunta(imagen_rgb, pregunta)\n",
    "    resultado_test = resultado_test and realizar_pregunta(pregunta, respuestas_esperadas[i])\n",
    "\n",
    "# Mostrar el resultado final\n",
    "print(\"¿Todas las respuestas son correctas?\", resultado_test)"
   ]
  },
  {
   "cell_type": "code",
   "execution_count": null,
   "metadata": {},
   "outputs": [],
   "source": [
    "# Programa que permite cargar una imagen y mostrarla en pantalla con los cambios de color basados en el tipo de Daltonismo"
   ]
  }
 ],
 "metadata": {
  "kernelspec": {
   "display_name": "Python 3",
   "language": "python",
   "name": "python3"
  },
  "language_info": {
   "codemirror_mode": {
    "name": "ipython",
    "version": 3
   },
   "file_extension": ".py",
   "mimetype": "text/x-python",
   "name": "python",
   "nbconvert_exporter": "python",
   "pygments_lexer": "ipython3",
   "version": "3.10.9"
  }
 },
 "nbformat": 4,
 "nbformat_minor": 2
}
